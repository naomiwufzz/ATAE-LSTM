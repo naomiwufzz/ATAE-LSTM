{
 "cells": [
  {
   "cell_type": "code",
   "execution_count": 1,
   "metadata": {},
   "outputs": [],
   "source": [
    "#coding:utf-8\n",
    "import torch as t\n",
    "import numpy as np\n",
    "from torch import nn\n",
    "import ipdb"
   ]
  },
  {
   "cell_type": "code",
   "execution_count": 2,
   "metadata": {
    "scrolled": true
   },
   "outputs": [
    {
     "name": "stdout",
     "output_type": "stream",
     "text": [
      "importing Jupyter notebook from D:\\Jupyter\\Python\\ATAE-LSTM\\data\\Embedding.ipynb\n",
      "Embedding : have input words : 1\n",
      "Embedding : have input words : 2\n",
      "Embedding : have input words : 4\n",
      "Embedding : have input words : 8\n",
      "Embedding : have input words : 16\n",
      "Embedding : have input words : 32\n",
      "Embedding : have input words : 64\n",
      "Embedding : have input words : 128\n",
      "Embedding : have input words : 256\n",
      "Embedding : have input words : 512\n",
      "Embedding : have input words : 1024\n",
      "Embedding : have input words : 2048\n",
      "Embedding : have input words : 4096\n",
      "Embedding : have input words : 8192\n",
      "importing Jupyter notebook from D:\\Jupyter\\Python\\ATAE-LSTM\\models\\BasicModule.ipynb\n",
      "importing Jupyter notebook from D:\\Jupyter\\Python\\ATAE-LSTM\\data\\AspClas_.ipynb\n"
     ]
    }
   ],
   "source": [
    "import sys\n",
    "sys.path.append('D:\\\\Jupyter\\\\Python\\\\ATAE-LSTM')\n",
    "import Ipynb_importer\n",
    "from config import opt\n",
    "from data.Embedding import emb\n",
    "from models.BasicModule import BasicModule\n",
    "from data.AspClas_ import AspClas"
   ]
  },
  {
   "cell_type": "code",
   "execution_count": 3,
   "metadata": {},
   "outputs": [],
   "source": [
    "class ATAE_LSTM(BasicModule):\n",
    "    def __init__(self):\n",
    "        super(ATAE_LSTM, self).__init__()\n",
    "        \n",
    "        self.embedding = emb._make_layer_()\n",
    "        \n",
    "        self.lstm = nn.LSTM(opt.hidden_size*2, opt.hidden_size)\n",
    "        for k in self.lstm.state_dict().keys():\n",
    "            self.lstm.state_dict()[k].uniform_(-opt.epsilon, opt.epsilon)\n",
    "        \n",
    "        self.hidden=(\n",
    "            # 三个参数分别为 num_layers, batch_size, hidden_size\n",
    "            t.nn.Parameter(\n",
    "                t.Tensor(\n",
    "                    np.random.uniform(-opt.epsilon, opt.epsilon, opt.hidden_size)\n",
    "                ).view(1,1,opt.hidden_size)\n",
    "            ),\n",
    "            t.nn.Parameter(\n",
    "                t.Tensor(\n",
    "                    np.random.uniform(-opt.epsilon, opt.epsilon, opt.hidden_size)\n",
    "                ).view(1,1,opt.hidden_size)\n",
    "            )\n",
    "        )\n",
    "        \n",
    "        self.Wh = t.nn.Parameter(\n",
    "            t.Tensor(\n",
    "                np.random.uniform(-opt.epsilon, opt.epsilon, opt.hidden_size**2)\n",
    "            ).view(opt.hidden_size,opt.hidden_size)\n",
    "        )\n",
    "        self.Wv = t.nn.Parameter(\n",
    "            t.Tensor(\n",
    "                np.random.uniform(-opt.epsilon, opt.epsilon, opt.hidden_size**2)\n",
    "            ).view(opt.hidden_size,opt.hidden_size)\n",
    "        )\n",
    "        \n",
    "        self.tanh = nn.Tanh()\n",
    "        \n",
    "        self.omega = t.nn.Parameter(\n",
    "            t.Tensor(\n",
    "                np.random.uniform(-opt.epsilon, opt.epsilon, opt.hidden_size*2)\n",
    "            ).view(1,opt.hidden_size*2)\n",
    "        )\n",
    "        self.softmax1 = nn.Softmax(dim=1)\n",
    "        \n",
    "        self.Wp = t.nn.Parameter(\n",
    "            t.Tensor(\n",
    "                np.random.uniform(-opt.epsilon, opt.epsilon, opt.hidden_size**2)\n",
    "            ).view(opt.hidden_size,opt.hidden_size)\n",
    "        )\n",
    "        self.Wx = t.nn.Parameter(\n",
    "            t.Tensor(\n",
    "                np.random.uniform(-opt.epsilon, opt.epsilon, opt.hidden_size**2)\n",
    "            ).view(opt.hidden_size,opt.hidden_size)\n",
    "        )\n",
    "        \n",
    "        self.lin = nn.Linear(opt.hidden_size, opt.classes)\n",
    "        for k in self.lin.state_dict().keys():\n",
    "            self.lin.state_dict()[k].uniform_(-opt.epsilon, opt.epsilon)\n",
    "        self.softmax2 = nn.Softmax(dim=0)\n",
    "        \n",
    "        return\n",
    "    \n",
    "    def forward(self, x):\n",
    "        # word representation\n",
    "        w = x[0]\n",
    "        N = len(w)\n",
    "        # aspect term\n",
    "        v = x[1]\n",
    "        assert len(v)==1\n",
    "        # e.g.\n",
    "        # w torch.Size([16])\n",
    "        # v torch.Size([1])\n",
    "        \n",
    "        e1 = self.embedding(x[0])\n",
    "        e2 = self.embedding(x[1]).expand(e1.size())\n",
    "        # e.g.\n",
    "        # e1 torch.Size([16, 300])\n",
    "        # e2 torch.Size([1, 300]) -> torch.Size([16, 300])\n",
    "        \n",
    "        wv = t.cat((e1.view(N,1,opt.hidden_size), e2.view(N,1,opt.hidden_size)), dim=-1)\n",
    "        # e.g.\n",
    "        # wv torch.Size([16, 1, 600])\n",
    "        \n",
    "        out, (h, c) = self.lstm(wv, self.hidden)\n",
    "        # e.g.\n",
    "        # out torch.Size([16, 1, 300])\n",
    "        # h torch.Size([1, 1, 300])\n",
    "        # c torch.Size([1, 1, 300])\n",
    "        \n",
    "        Wh_H = self.Wh.mm(out.view(opt.hidden_size, N))\n",
    "        Wv_Va_eN = self.Wv.mm(self.embedding(x[1]).t()).expand(opt.hidden_size, N)\n",
    "        vh = t.cat((Wh_H, Wv_Va_eN), dim=0)\n",
    "        # e.g.\n",
    "        # Wh_H     torch.Size([300, 16])\n",
    "        # Wv_Va_eN torch.Size([300, 16])\n",
    "        # vh       torch.Size([600, 16])\n",
    "        \n",
    "        M = self.tanh(vh)\n",
    "        # e.g.\n",
    "        # M torch.Size([600, 16])\n",
    "        \n",
    "        alpha = self.softmax1(self.omega.mm(M))\n",
    "        # e.g.\n",
    "        # alpha torch.Size([1, 16])\n",
    "        \n",
    "        r = out.view(opt.hidden_size, N).mm(alpha.t())\n",
    "        # e.g.\n",
    "        # r torch.Size([300, 1])\n",
    "        \n",
    "        _h_ = self.tanh(self.Wp.mm(r) + self.Wx.mm(h.view(opt.hidden_size,1)))\n",
    "        # e.g.\n",
    "        # _h_ torch.Size([300, 1])\n",
    "        \n",
    "        y = self.softmax2(self.lin(_h_.view(opt.hidden_size)))\n",
    "        # e.g.\n",
    "        # y torch.Size([3])\n",
    "        \n",
    "        return y"
   ]
  },
  {
   "cell_type": "code",
   "execution_count": 4,
   "metadata": {},
   "outputs": [
    {
     "name": "stdout",
     "output_type": "stream",
     "text": [
      "tensor([ 0.3321,  0.3338,  0.3340])\n",
      "12\n"
     ]
    }
   ],
   "source": [
    "if __name__=='__main__':\n",
    "    testDataset = AspClas(opt.base_root+'/data/restaurants-trial.xml')\n",
    "    model = ATAE_LSTM()\n",
    "    x = testDataset[0][:2]\n",
    "    y = model(x)\n",
    "    print(y)\n",
    "    print(len(list(model.parameters())))"
   ]
  },
  {
   "cell_type": "code",
   "execution_count": 5,
   "metadata": {},
   "outputs": [
    {
     "name": "stdout",
     "output_type": "stream",
     "text": [
      "Wh\n",
      "Wv\n",
      "omega\n",
      "Wp\n",
      "Wx\n",
      "embedding.weight\n",
      "lstm.weight_ih_l0\n",
      "lstm.weight_hh_l0\n",
      "lstm.bias_ih_l0\n",
      "lstm.bias_hh_l0\n",
      "lin.weight\n",
      "lin.bias\n"
     ]
    }
   ],
   "source": [
    "for tp in model.named_parameters():\n",
    "    print(tp[0])"
   ]
  },
  {
   "cell_type": "code",
   "execution_count": 6,
   "metadata": {},
   "outputs": [
    {
     "data": {
      "text/plain": [
       "True"
      ]
     },
     "execution_count": 6,
     "metadata": {},
     "output_type": "execute_result"
    }
   ],
   "source": [
    "model.Wh.requires_grad"
   ]
  },
  {
   "cell_type": "code",
   "execution_count": 7,
   "metadata": {},
   "outputs": [
    {
     "data": {
      "text/plain": [
       "True"
      ]
     },
     "execution_count": 7,
     "metadata": {},
     "output_type": "execute_result"
    }
   ],
   "source": [
    "model.Wv.requires_grad"
   ]
  },
  {
   "cell_type": "code",
   "execution_count": 8,
   "metadata": {},
   "outputs": [
    {
     "data": {
      "text/plain": [
       "True"
      ]
     },
     "execution_count": 8,
     "metadata": {},
     "output_type": "execute_result"
    }
   ],
   "source": [
    "model.omega.requires_grad"
   ]
  },
  {
   "cell_type": "code",
   "execution_count": 9,
   "metadata": {},
   "outputs": [
    {
     "data": {
      "text/plain": [
       "True"
      ]
     },
     "execution_count": 9,
     "metadata": {},
     "output_type": "execute_result"
    }
   ],
   "source": [
    "model.Wp.requires_grad"
   ]
  },
  {
   "cell_type": "code",
   "execution_count": 10,
   "metadata": {},
   "outputs": [
    {
     "data": {
      "text/plain": [
       "True"
      ]
     },
     "execution_count": 10,
     "metadata": {},
     "output_type": "execute_result"
    }
   ],
   "source": [
    "model.Wx.requires_grad"
   ]
  },
  {
   "cell_type": "code",
   "execution_count": 11,
   "metadata": {},
   "outputs": [
    {
     "data": {
      "text/plain": [
       "True"
      ]
     },
     "execution_count": 11,
     "metadata": {},
     "output_type": "execute_result"
    }
   ],
   "source": [
    "model.embedding.weight.requires_grad"
   ]
  },
  {
   "cell_type": "code",
   "execution_count": 12,
   "metadata": {},
   "outputs": [
    {
     "data": {
      "text/plain": [
       "True"
      ]
     },
     "execution_count": 12,
     "metadata": {},
     "output_type": "execute_result"
    }
   ],
   "source": [
    "model.lstm.weight_ih_l0.requires_grad"
   ]
  },
  {
   "cell_type": "code",
   "execution_count": 13,
   "metadata": {},
   "outputs": [
    {
     "data": {
      "text/plain": [
       "True"
      ]
     },
     "execution_count": 13,
     "metadata": {},
     "output_type": "execute_result"
    }
   ],
   "source": [
    "model.lstm.weight_hh_l0.requires_grad"
   ]
  },
  {
   "cell_type": "code",
   "execution_count": 14,
   "metadata": {},
   "outputs": [
    {
     "data": {
      "text/plain": [
       "True"
      ]
     },
     "execution_count": 14,
     "metadata": {},
     "output_type": "execute_result"
    }
   ],
   "source": [
    "model.lstm.bias_ih_l0.requires_grad"
   ]
  },
  {
   "cell_type": "code",
   "execution_count": 15,
   "metadata": {},
   "outputs": [
    {
     "data": {
      "text/plain": [
       "True"
      ]
     },
     "execution_count": 15,
     "metadata": {},
     "output_type": "execute_result"
    }
   ],
   "source": [
    "model.lstm.bias_hh_l0.requires_grad"
   ]
  },
  {
   "cell_type": "code",
   "execution_count": 16,
   "metadata": {},
   "outputs": [
    {
     "data": {
      "text/plain": [
       "True"
      ]
     },
     "execution_count": 16,
     "metadata": {},
     "output_type": "execute_result"
    }
   ],
   "source": [
    "model.lin.weight.requires_grad"
   ]
  },
  {
   "cell_type": "code",
   "execution_count": 17,
   "metadata": {},
   "outputs": [
    {
     "data": {
      "text/plain": [
       "True"
      ]
     },
     "execution_count": 17,
     "metadata": {},
     "output_type": "execute_result"
    }
   ],
   "source": [
    "model.lin.bias.requires_grad"
   ]
  }
 ],
 "metadata": {
  "kernelspec": {
   "display_name": "Python 3",
   "language": "python",
   "name": "python3"
  },
  "language_info": {
   "codemirror_mode": {
    "name": "ipython",
    "version": 3
   },
   "file_extension": ".py",
   "mimetype": "text/x-python",
   "name": "python",
   "nbconvert_exporter": "python",
   "pygments_lexer": "ipython3",
   "version": "3.6.4"
  }
 },
 "nbformat": 4,
 "nbformat_minor": 2
}
