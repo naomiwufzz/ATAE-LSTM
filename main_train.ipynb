{
 "cells": [
  {
   "cell_type": "code",
   "execution_count": 1,
   "metadata": {},
   "outputs": [
    {
     "name": "stdout",
     "output_type": "stream",
     "text": [
      "Embedding : have input words : 1\n",
      "Embedding : have input words : 2\n",
      "Embedding : have input words : 4\n",
      "Embedding : have input words : 8\n",
      "Embedding : have input words : 16\n",
      "Embedding : have input words : 32\n",
      "Embedding : have input words : 64\n",
      "Embedding : have input words : 128\n",
      "Embedding : have input words : 256\n",
      "Embedding : have input words : 512\n",
      "Embedding : have input words : 1024\n",
      "Embedding : have input words : 2048\n",
      "Embedding : have input words : 4096\n",
      "Embedding : have input words : 8192\n",
      "Embedding : have input words : 16384\n",
      "importing Jupyter notebook from D:\\Jupyter\\Python\\ATAE-LSTM\\models\\AE_GRU.ipynb\n",
      "importing Jupyter notebook from D:\\Jupyter\\Python\\ATAE-LSTM\\models\\AE_MyGRU.ipynb\n",
      "importing Jupyter notebook from D:\\Jupyter\\Python\\MyGRU\\MyGRU.ipynb\n",
      "Automatic pdb calling has been turned ON\n"
     ]
    }
   ],
   "source": [
    "import ipdb\n",
    "import sys\n",
    "sys.path.append('D:\\\\Jupyter\\\\Python\\\\ATAE-LSTM')\n",
    "import Ipynb_importer\n",
    "from data.Embedding import emb\n",
    "from data.AspClas_ import AspClas\n",
    "from models.ATAE_LSTM import ATAE_LSTM\n",
    "from models.AE_GRU import AE_GRU\n",
    "from models.AE_MyGRU import AE_MyGRU\n",
    "from utils.visualize import Visualizer\n",
    "from config import opt\n",
    "from tqdm import tqdm\n",
    "from random import randint"
   ]
  },
  {
   "cell_type": "code",
   "execution_count": 2,
   "metadata": {},
   "outputs": [],
   "source": [
    "import torch as t\n",
    "from torch.utils.data import DataLoader\n",
    "from torchnet import meter\n",
    "from torch.autograd import Variable"
   ]
  },
  {
   "cell_type": "code",
   "execution_count": 3,
   "metadata": {},
   "outputs": [],
   "source": [
    "def val(model, dataset):\n",
    "    '''\n",
    "    计算模型在验证集上的准确率等信息\n",
    "    '''\n",
    "    model.eval()\n",
    "    confusion_matrix = meter.ConfusionMeter(3)\n",
    "    \n",
    "    # for ii, data in enumerate(dataloader):\n",
    "    with t.no_grad():\n",
    "        for data in dataset:\n",
    "            text, aspect, sentiment = data\n",
    "            val_input = (Variable(text, requires_grad=False), Variable(aspect, requires_grad=False))\n",
    "            val_label = Variable(sentiment.type(t.LongTensor), requires_grad=False)\n",
    "            if opt.use_gpu:\n",
    "                val_input = val_input.cuda()\n",
    "                val_label = val_label.cuda()\n",
    "            score = model(val_input).view(1, opt.classes)\n",
    "            confusion_matrix.add(score.data, sentiment.type(t.LongTensor))\n",
    "    \n",
    "    model.train()\n",
    "    cm_value = confusion_matrix.value()\n",
    "    accuracy = 100.0 * (cm_value[0][0] + cm_value[1][1] + cm_value[2][2]) / (cm_value.sum())\n",
    "    return confusion_matrix, accuracy"
   ]
  },
  {
   "cell_type": "code",
   "execution_count": 4,
   "metadata": {},
   "outputs": [],
   "source": [
    "vis = Visualizer(opt.env)"
   ]
  },
  {
   "cell_type": "code",
   "execution_count": 5,
   "metadata": {},
   "outputs": [
    {
     "name": "stdout",
     "output_type": "stream",
     "text": [
      "Automatic pdb calling has been turned ON\n"
     ]
    }
   ],
   "source": [
    "%pdb on\n",
    "# step1 data\n",
    "test_data = AspClas(opt.test_data_root, test=True, train=False, debug=False)\n",
    "train_data = AspClas(opt.train_data_root, test=False, train=True, debug=False)\n",
    "test_dataloader = DataLoader(\n",
    "    test_data,\n",
    "    opt.batch_size,\n",
    "    shuffle=True,\n",
    "    num_workers=opt.num_workers\n",
    ")\n",
    "train_dataloader = DataLoader(\n",
    "    train_data,\n",
    "    opt.batch_size,\n",
    "    shuffle=False,\n",
    "    num_workers=opt.num_workers\n",
    ")"
   ]
  },
  {
   "cell_type": "code",
   "execution_count": 6,
   "metadata": {},
   "outputs": [],
   "source": [
    "# step2 configure model\n",
    "#model = ATAE_LSTM()\n",
    "model = AE_MyGRU()"
   ]
  },
  {
   "cell_type": "code",
   "execution_count": 7,
   "metadata": {},
   "outputs": [],
   "source": [
    "# step3 criterion and optimizer\n",
    "criterion = t.nn.CrossEntropyLoss()\n",
    "lr = opt.lr\n",
    "optimizer = t.optim.Adam(\n",
    "    model.parameters(),\n",
    "    lr = lr,\n",
    "    weight_decay = opt.weight_decay\n",
    ")"
   ]
  },
  {
   "cell_type": "code",
   "execution_count": null,
   "metadata": {},
   "outputs": [],
   "source": [
    "# step4 meters\n",
    "loss_meter = meter.AverageValueMeter()\n",
    "confusion_matrix = meter.ConfusionMeter(3)\n",
    "previous_loss = 1e100"
   ]
  },
  {
   "cell_type": "code",
   "execution_count": null,
   "metadata": {
    "scrolled": true
   },
   "outputs": [
    {
     "name": "stdout",
     "output_type": "stream",
     "text": [
      "Automatic pdb calling has been turned ON\n"
     ]
    }
   ],
   "source": [
    "# step5 train\n",
    "%pdb on\n",
    "# validate and visualize at start\n",
    "val_cm, val_accuracy = val(model, test_data)\n",
    "vis.plot('val_accuracy', val_accuracy)\n",
    "vis.plot('lr', lr)\n",
    "vis.log(\"epoch:{epoch},\\nlr:{lr},\\ntrain_cm:{train_cm},\\nval_cm:{val_cm}\".format(\n",
    "    epoch = 0,\n",
    "    val_cm = str(val_cm.value()),\n",
    "    train_cm=str(confusion_matrix.value()),\n",
    "    lr=lr\n",
    "))\n",
    "for epoch in range(opt.max_epoch):\n",
    "    loss_meter.reset()\n",
    "    confusion_matrix.reset()\n",
    "    \n",
    "    #for ii, (text, aspect, sentiment) in tqdm(enumerate(train_dataloader), total=len(train_data)):\n",
    "    # ii = 0\n",
    "    \n",
    "    # for text, aspect, sentiment in train_data:\n",
    "        # ii += 1\n",
    "    len_train_data = len(train_data)\n",
    "    for ii in range(int(len_train_data/opt.batch_size)):\n",
    "        target = []\n",
    "        score = []\n",
    "        for i in range(ii*opt.batch_size, (ii+1)*opt.batch_size):\n",
    "            i = (i+randint(1,len_train_data))%len_train_data\n",
    "            text, aspect, sentiment = train_data[i]\n",
    "            # train model\n",
    "            input = (Variable(text), Variable(aspect))\n",
    "            target.append(Variable(sentiment))\n",
    "            score.append(model(input).view(1, opt.classes))\n",
    "        target = t.cat(target, dim=0)\n",
    "        score = t.cat(score, dim=0)\n",
    "        optimizer.zero_grad()\n",
    "        loss = criterion(score, target)\n",
    "        loss.backward()\n",
    "        optimizer.step()\n",
    "        \n",
    "        # meters update and visualize\n",
    "        loss_meter.add(loss.data)\n",
    "        confusion_matrix.add(score.data, target.data)\n",
    "        if ii%opt.print_freq == opt.print_freq-1:\n",
    "            vis.plot('loss', loss_meter.value()[0])\n",
    "            vis.log(\"score:{score},target:{target}\".format(\n",
    "                score = score,\n",
    "                target = target\n",
    "            ))\n",
    "    model.save()\n",
    "    \n",
    "    # validate and visualize\n",
    "    val_cm, val_accuracy = val(model, test_data)\n",
    "    \n",
    "    vis.plot('val_accuracy', val_accuracy)\n",
    "    vis.plot('lr', lr*1000)\n",
    "    vis.log(\"epoch:{epoch},\\nlr:{lr},\\ntrain_cm:{train_cm},\\nval_cm:{val_cm}\".format(\n",
    "        epoch = epoch,\n",
    "        val_cm = str(val_cm.value()),\n",
    "        train_cm=str(confusion_matrix.value()),\n",
    "        lr=lr\n",
    "    ))\n",
    "    \n",
    "    # update learning rate\n",
    "    if loss_meter.value()[0].item() >= previous_loss:\n",
    "        lr = lr * opt.lr_decay\n",
    "        for param_group in optimizer.param_groups:\n",
    "            param_group['lr'] = lr\n",
    "    previous_loss = loss_meter.value()[0]"
   ]
  },
  {
   "cell_type": "code",
   "execution_count": null,
   "metadata": {},
   "outputs": [],
   "source": [
    "for para in model.named_parameters():\n",
    "    print(para[0])\n",
    "    print(para[1].data)\n",
    "    print(para[1].grad)\n",
    "    print(para[1].grad.mean())"
   ]
  }
 ],
 "metadata": {
  "kernelspec": {
   "display_name": "Python 3",
   "language": "python",
   "name": "python3"
  },
  "language_info": {
   "codemirror_mode": {
    "name": "ipython",
    "version": 3
   },
   "file_extension": ".py",
   "mimetype": "text/x-python",
   "name": "python",
   "nbconvert_exporter": "python",
   "pygments_lexer": "ipython3",
   "version": "3.6.4"
  }
 },
 "nbformat": 4,
 "nbformat_minor": 2
}
